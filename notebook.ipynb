{
 "cells": [
  {
   "cell_type": "markdown",
   "source": [
    "## Installing the packages\n",
    "\n",
    "There are available wheels for Linux, MacOS (Not windows yet). The supported python versions are **3.8.x** and **3.9.x**.\n",
    "In the current version **PyDL8.5** is a dependency, so it will be installed automatically but this will change in the future.\n",
    "The documentation is a work in progress and will be available soon.\n",
    "You can install the package with pip:"
   ],
   "metadata": {
    "collapsed": false
   }
  },
  {
   "cell_type": "code",
   "execution_count": 1,
   "metadata": {
    "collapsed": true,
    "ExecuteTime": {
     "end_time": "2023-05-15T07:47:58.955234400Z",
     "start_time": "2023-05-15T07:47:35.961988331Z"
    }
   },
   "outputs": [
    {
     "name": "stdout",
     "output_type": "stream",
     "text": [
      "Collecting pytrees-rs\r\n",
      "  Downloading pytrees_rs-0.1.1-cp39-cp39-manylinux_2_17_x86_64.manylinux2014_x86_64.whl (832 kB)\r\n",
      "\u001B[2K     \u001B[90m━━━━━━━━━━━━━━━━━━━━━━━━━━━━━━━━━━━━━\u001B[0m \u001B[32m832.1/832.1 kB\u001B[0m \u001B[31m524.8 kB/s\u001B[0m eta \u001B[36m0:00:00\u001B[0ma \u001B[36m0:00:01\u001B[0m\r\n",
      "\u001B[?25hCollecting pandas\r\n",
      "  Using cached pandas-2.0.1-cp39-cp39-manylinux_2_17_x86_64.manylinux2014_x86_64.whl (12.4 MB)\r\n",
      "Collecting pydl8.5\r\n",
      "  Using cached pydl8.5-0.1.8-cp39-cp39-manylinux_2_17_x86_64.manylinux2014_x86_64.whl (2.6 MB)\r\n",
      "Collecting scikit-learn\r\n",
      "  Using cached scikit_learn-1.2.2-cp39-cp39-manylinux_2_17_x86_64.manylinux2014_x86_64.whl (9.6 MB)\r\n",
      "Collecting seaborn\r\n",
      "  Using cached seaborn-0.12.2-py3-none-any.whl (293 kB)\r\n",
      "Collecting pytz>=2020.1\r\n",
      "  Using cached pytz-2023.3-py2.py3-none-any.whl (502 kB)\r\n",
      "Requirement already satisfied: python-dateutil>=2.8.2 in ./venv/lib/python3.9/site-packages (from pandas->pytrees-rs) (2.8.2)\r\n",
      "Collecting numpy>=1.20.3\r\n",
      "  Using cached numpy-1.24.3-cp39-cp39-manylinux_2_17_x86_64.manylinux2014_x86_64.whl (17.3 MB)\r\n",
      "Collecting tzdata>=2022.1\r\n",
      "  Using cached tzdata-2023.3-py2.py3-none-any.whl (341 kB)\r\n",
      "Requirement already satisfied: setuptools in ./venv/lib/python3.9/site-packages (from pydl8.5->pytrees-rs) (67.6.1)\r\n",
      "Collecting cvxpy\r\n",
      "  Using cached cvxpy-1.3.1-cp39-cp39-manylinux_2_17_x86_64.manylinux2014_x86_64.whl (4.0 MB)\r\n",
      "Collecting cython\r\n",
      "  Using cached Cython-0.29.34-cp39-cp39-manylinux_2_17_x86_64.manylinux2014_x86_64.manylinux_2_24_x86_64.whl (2.0 MB)\r\n",
      "Collecting threadpoolctl>=2.0.0\r\n",
      "  Using cached threadpoolctl-3.1.0-py3-none-any.whl (14 kB)\r\n",
      "Collecting scipy>=1.3.2\r\n",
      "  Using cached scipy-1.10.1-cp39-cp39-manylinux_2_17_x86_64.manylinux2014_x86_64.whl (34.5 MB)\r\n",
      "Collecting joblib>=1.1.1\r\n",
      "  Using cached joblib-1.2.0-py3-none-any.whl (297 kB)\r\n",
      "Collecting matplotlib!=3.6.1,>=3.1\r\n",
      "  Using cached matplotlib-3.7.1-cp39-cp39-manylinux_2_17_x86_64.manylinux2014_x86_64.whl (11.6 MB)\r\n",
      "Requirement already satisfied: packaging>=20.0 in ./venv/lib/python3.9/site-packages (from matplotlib!=3.6.1,>=3.1->seaborn->pytrees-rs) (23.1)\r\n",
      "Collecting pyparsing>=2.3.1\r\n",
      "  Using cached pyparsing-3.0.9-py3-none-any.whl (98 kB)\r\n",
      "Collecting kiwisolver>=1.0.1\r\n",
      "  Using cached kiwisolver-1.4.4-cp39-cp39-manylinux_2_12_x86_64.manylinux2010_x86_64.whl (1.6 MB)\r\n",
      "Collecting importlib-resources>=3.2.0\r\n",
      "  Using cached importlib_resources-5.12.0-py3-none-any.whl (36 kB)\r\n",
      "Collecting pillow>=6.2.0\r\n",
      "  Using cached Pillow-9.5.0-cp39-cp39-manylinux_2_28_x86_64.whl (3.4 MB)\r\n",
      "Collecting contourpy>=1.0.1\r\n",
      "  Using cached contourpy-1.0.7-cp39-cp39-manylinux_2_17_x86_64.manylinux2014_x86_64.whl (299 kB)\r\n",
      "Collecting fonttools>=4.22.0\r\n",
      "  Using cached fonttools-4.39.4-py3-none-any.whl (1.0 MB)\r\n",
      "Collecting cycler>=0.10\r\n",
      "  Using cached cycler-0.11.0-py3-none-any.whl (6.4 kB)\r\n",
      "Requirement already satisfied: six>=1.5 in ./venv/lib/python3.9/site-packages (from python-dateutil>=2.8.2->pandas->pytrees-rs) (1.16.0)\r\n",
      "Collecting osqp>=0.4.1\r\n",
      "  Using cached osqp-0.6.2.post9-cp39-cp39-manylinux_2_5_x86_64.manylinux1_x86_64.manylinux_2_17_x86_64.manylinux2014_x86_64.whl (298 kB)\r\n",
      "Collecting scs>=1.1.6\r\n",
      "  Using cached scs-3.2.3-cp39-cp39-manylinux_2_17_x86_64.manylinux2014_x86_64.whl (10.7 MB)\r\n",
      "Collecting ecos>=2\r\n",
      "  Using cached ecos-2.0.12-cp39-cp39-manylinux_2_17_x86_64.manylinux2014_x86_64.whl (220 kB)\r\n",
      "Requirement already satisfied: zipp>=3.1.0 in ./venv/lib/python3.9/site-packages (from importlib-resources>=3.2.0->matplotlib!=3.6.1,>=3.1->seaborn->pytrees-rs) (3.15.0)\r\n",
      "Collecting qdldl\r\n",
      "  Using cached qdldl-0.1.7-cp39-cp39-manylinux_2_17_x86_64.manylinux2014_x86_64.whl (1.0 MB)\r\n",
      "Installing collected packages: pytz, tzdata, threadpoolctl, pyparsing, pillow, numpy, kiwisolver, joblib, importlib-resources, fonttools, cython, cycler, scipy, pandas, contourpy, scs, scikit-learn, qdldl, matplotlib, ecos, seaborn, osqp, cvxpy, pydl8.5, pytrees-rs\r\n",
      "Successfully installed contourpy-1.0.7 cvxpy-1.3.1 cycler-0.11.0 cython-0.29.34 ecos-2.0.12 fonttools-4.39.4 importlib-resources-5.12.0 joblib-1.2.0 kiwisolver-1.4.4 matplotlib-3.7.1 numpy-1.24.3 osqp-0.6.2.post9 pandas-2.0.1 pillow-9.5.0 pydl8.5-0.1.8 pyparsing-3.0.9 pytrees-rs-0.1.1 pytz-2023.3 qdldl-0.1.7 scikit-learn-1.2.2 scipy-1.10.1 scs-3.2.3 seaborn-0.12.2 threadpoolctl-3.1.0 tzdata-2023.3\r\n",
      "\r\n",
      "\u001B[1m[\u001B[0m\u001B[34;49mnotice\u001B[0m\u001B[1;39;49m]\u001B[0m\u001B[39;49m A new release of pip is available: \u001B[0m\u001B[31;49m23.0.1\u001B[0m\u001B[39;49m -> \u001B[0m\u001B[32;49m23.1.2\u001B[0m\r\n",
      "\u001B[1m[\u001B[0m\u001B[34;49mnotice\u001B[0m\u001B[1;39;49m]\u001B[0m\u001B[39;49m To update, run: \u001B[0m\u001B[32;49mpip install --upgrade pip\u001B[0m\r\n"
     ]
    }
   ],
   "source": [
    "!pip install -r requirements.txt # graphviz is only needed to print the tree"
   ]
  },
  {
   "cell_type": "markdown",
   "source": [
    "## Using PyTrees to find Optimal decisions trees with DL8.5 algorithm"
   ],
   "metadata": {
    "collapsed": false
   }
  },
  {
   "cell_type": "code",
   "execution_count": 19,
   "outputs": [],
   "source": [
    "### Importing dependencies\n",
    "import numpy as np\n",
    "import graphviz\n",
    "from pprint import pprint\n",
    "from pytrees.optimal import DL85Classifier as RustDl85\n",
    "from pytrees import (\n",
    "                    Specialization,\n",
    "                    Heuristic,\n",
    "                    Branching\n",
    "                    )"
   ],
   "metadata": {
    "collapsed": false,
    "ExecuteTime": {
     "end_time": "2023-05-15T08:38:29.774034202Z",
     "start_time": "2023-05-15T08:38:29.771973307Z"
    }
   }
  },
  {
   "cell_type": "code",
   "execution_count": 62,
   "outputs": [],
   "source": [
    "### Loading the dataset\n",
    "dataset = np.genfromtxt(\"data/ionosphere.txt\", delimiter=\" \")\n",
    "X, y = dataset[:, 1:], dataset[:, 0]"
   ],
   "metadata": {
    "collapsed": false,
    "ExecuteTime": {
     "end_time": "2023-05-15T09:12:36.865964317Z",
     "start_time": "2023-05-15T09:12:36.825292402Z"
    }
   }
  },
  {
   "cell_type": "markdown",
   "source": [
    "### Creating the model\n",
    "There are several parameters that can be tuned to improve the performance of the algorithm. The most important ones are:\n",
    "- **min_sup**: The minimum support of a node to be considered.\n",
    "- **max_depth**: The maximum depth of the tree.\n",
    "- **max_time**: The maximum time in seconds to run the algorithm.\n",
    "- **specialization**: The specialization algorithm to use. The available options are:\n",
    "    - **None_**: No specialization.\n",
    "    - **MurTree**: MurTree specialization.\n",
    "- **heuristic**: The heuristic to use. The available options are:\n",
    "    - **None_**: No heuristic.\n",
    "    - **InformationGain**: InformationGain heuristic.\n",
    "    - **InformationGainRatio**: InformationGainRatio heuristic.\n",
    "    - **GiniIndex**: Gini Index heuristic.\n",
    "- **one_time_sort**: Whether to sort the features only once using the heuristic.\n",
    "- **branching**: Whether to use dynamic branching. The available options are:\n",
    "    - **None_**: No branching.\n",
    "    - **Dynamic**: Dynamic branching."
   ],
   "metadata": {
    "collapsed": false
   }
  },
  {
   "cell_type": "code",
   "execution_count": 5,
   "outputs": [],
   "source": [
    "### Creating the model\n",
    "clf = RustDl85(\n",
    "    min_sup=1,\n",
    "    max_depth=3,\n",
    "    max_time=600, # 10 minutes\n",
    "    specialization=Specialization.MurTree, # MurTree specialization or None_ for no specialization\n",
    "    heuristic=Heuristic.None_, # InformationGain heuristic or None_ for no heuristic\n",
    "    one_time_sort=True, # Sort the features only once using the heuristic\n",
    "    branching=Branching.Dynamic, # Dynamic branching or None_ for no branching\n",
    ")"
   ],
   "metadata": {
    "collapsed": false,
    "ExecuteTime": {
     "end_time": "2023-05-15T08:19:19.353780556Z",
     "start_time": "2023-05-15T08:19:19.349814710Z"
    }
   }
  },
  {
   "cell_type": "markdown",
   "source": [
    "### Fitting the model\n",
    "\n",
    "The model is compatible with the scikit-learn API, so it can be used with the same methods as the scikit-learn models."
   ],
   "metadata": {
    "collapsed": false
   }
  },
  {
   "cell_type": "code",
   "execution_count": 7,
   "outputs": [
    {
     "name": "stdout",
     "output_type": "stream",
     "text": [
      "Fitting the model\n",
      "Done\n",
      "Distribution: [187, 625]\n"
     ]
    }
   ],
   "source": [
    "print(\"Fitting the model\")\n",
    "clf.fit(X, y)\n",
    "print(\"Done\")"
   ],
   "metadata": {
    "collapsed": false,
    "ExecuteTime": {
     "end_time": "2023-05-15T08:21:02.167834296Z",
     "start_time": "2023-05-15T08:21:02.126097444Z"
    }
   }
  },
  {
   "cell_type": "markdown",
   "source": [],
   "metadata": {
    "collapsed": false
   }
  },
  {
   "cell_type": "code",
   "execution_count": 10,
   "outputs": [
    {
     "name": "stdout",
     "output_type": "stream",
     "text": [
      "{'cache_size': 795,\n",
      " 'constraints': {'branching': 'Dynamic',\n",
      "                 'cache_init': 'WithMemoryDynamic',\n",
      "                 'cache_init_size': 0,\n",
      "                 'discrepancy_budget': 0,\n",
      "                 'discrepancy_strategy': 'None',\n",
      "                 'lower_bound': 'Similarity',\n",
      "                 'max_depth': 3,\n",
      "                 'max_error': 18446744073709551615,\n",
      "                 'max_time': 600,\n",
      "                 'min_sup': 1,\n",
      "                 'one_time_sort': True,\n",
      "                 'specialization': 'Murtree'},\n",
      " 'duration': {'nanos': 69945575, 'secs': 0},\n",
      " 'num_attributes': 93,\n",
      " 'num_samples': 812,\n",
      " 'train_distribution': [187, 625],\n",
      " 'tree_error': 112}\n"
     ]
    }
   ],
   "source": [
    "### Printing the statistics\n",
    "pprint(clf.statistics)"
   ],
   "metadata": {
    "collapsed": false,
    "ExecuteTime": {
     "end_time": "2023-05-15T08:21:25.266706345Z",
     "start_time": "2023-05-15T08:21:25.263828113Z"
    }
   }
  },
  {
   "cell_type": "markdown",
   "source": [
    "### Computing the accuracy\n",
    "Using the scikit-learn API, the accuracy can be computed with the `score` method."
   ],
   "metadata": {
    "collapsed": false
   }
  },
  {
   "cell_type": "code",
   "execution_count": 14,
   "outputs": [
    {
     "name": "stdout",
     "output_type": "stream",
     "text": [
      "Accuracy: 0.8620689655172413\n"
     ]
    }
   ],
   "source": [
    "### Computing the accuracy\n",
    "print(\"Accuracy:\", clf.score(X, y))"
   ],
   "metadata": {
    "collapsed": false,
    "ExecuteTime": {
     "end_time": "2023-05-15T08:27:38.044610035Z",
     "start_time": "2023-05-15T08:27:38.004520566Z"
    }
   }
  },
  {
   "cell_type": "markdown",
   "source": [
    "### Printing the tree\n",
    "The tree can be printed using the `export_to_graphviz_dot` method."
   ],
   "metadata": {
    "collapsed": false
   }
  },
  {
   "cell_type": "code",
   "execution_count": 13,
   "outputs": [
    {
     "data": {
      "image/svg+xml": "<?xml version=\"1.0\" encoding=\"UTF-8\" standalone=\"no\"?>\n<!DOCTYPE svg PUBLIC \"-//W3C//DTD SVG 1.1//EN\"\n \"http://www.w3.org/Graphics/SVG/1.1/DTD/svg11.dtd\">\n<!-- Generated by graphviz version 8.0.5 (0)\n -->\n<!-- Title: Tree Pages: 1 -->\n<svg width=\"791pt\" height=\"285pt\"\n viewBox=\"0.00 0.00 790.75 284.75\" xmlns=\"http://www.w3.org/2000/svg\" xmlns:xlink=\"http://www.w3.org/1999/xlink\">\n<g id=\"graph0\" class=\"graph\" transform=\"scale(1 1) rotate(0) translate(4 280.75)\">\n<title>Tree</title>\n<polygon fill=\"white\" stroke=\"none\" points=\"-4,4 -4,-280.75 786.75,-280.75 786.75,4 -4,4\"/>\n<!-- node_7b5eec11_78d4_4256_81e6_fd093d4f8a96 -->\n<g id=\"node1\" class=\"node\">\n<title>node_7b5eec11_78d4_4256_81e6_fd093d4f8a96</title>\n<polygon fill=\"none\" stroke=\"black\" points=\"312,-225.75 312,-276.25 407.75,-276.25 407.75,-225.75 312,-225.75\"/>\n<text text-anchor=\"middle\" x=\"340.38\" y=\"-258.95\" font-family=\"Times,serif\" font-size=\"14.00\">feat</text>\n<polyline fill=\"none\" stroke=\"black\" points=\"368.75,-251 368.75,-276.25\"/>\n<text text-anchor=\"middle\" x=\"388.25\" y=\"-258.95\" font-family=\"Times,serif\" font-size=\"14.00\">4</text>\n<polyline fill=\"none\" stroke=\"black\" points=\"312,-251 407.75,-251\"/>\n<text text-anchor=\"middle\" x=\"338.38\" y=\"-233.7\" font-family=\"Times,serif\" font-size=\"14.00\">error</text>\n<polyline fill=\"none\" stroke=\"black\" points=\"364.75,-225.75 364.75,-251\"/>\n<text text-anchor=\"middle\" x=\"386.25\" y=\"-233.7\" font-family=\"Times,serif\" font-size=\"14.00\">112</text>\n</g>\n<!-- node_51caa6b6_959d_4a6c_9419_f859286af9a9 -->\n<g id=\"node2\" class=\"node\">\n<title>node_51caa6b6_959d_4a6c_9419_f859286af9a9</title>\n<polygon fill=\"none\" stroke=\"black\" points=\"225.5,-155.5 225.5,-191.5 294.25,-191.5 294.25,-155.5 225.5,-155.5\"/>\n<text text-anchor=\"middle\" x=\"247.38\" y=\"-169.2\" font-family=\"Times,serif\" font-size=\"14.00\">feat</text>\n<polyline fill=\"none\" stroke=\"black\" points=\"269.25,-156.25 269.25,-191.5\"/>\n<text text-anchor=\"middle\" x=\"281.75\" y=\"-169.2\" font-family=\"Times,serif\" font-size=\"14.00\">5</text>\n</g>\n<!-- node_7b5eec11_78d4_4256_81e6_fd093d4f8a96&#45;&gt;node_51caa6b6_959d_4a6c_9419_f859286af9a9 -->\n<g id=\"edge1\" class=\"edge\">\n<title>node_7b5eec11_78d4_4256_81e6_fd093d4f8a96&#45;&gt;node_51caa6b6_959d_4a6c_9419_f859286af9a9</title>\n<path fill=\"none\" stroke=\"black\" d=\"M327.96,-225.9C316.12,-216.96 302.71,-206.84 290.94,-197.96\"/>\n<polygon fill=\"black\" stroke=\"black\" points=\"293.41,-194.68 283.32,-191.45 289.19,-200.26 293.41,-194.68\"/>\n<text text-anchor=\"middle\" x=\"320.38\" y=\"-203.95\" font-family=\"Times,serif\" font-size=\"14.00\">0</text>\n</g>\n<!-- node_6e6820fe_36c9_42f4_9f3a_ae4a8e92f9cb -->\n<g id=\"node9\" class=\"node\">\n<title>node_6e6820fe_36c9_42f4_9f3a_ae4a8e92f9cb</title>\n<polygon fill=\"none\" stroke=\"black\" points=\"443,-155.5 443,-191.5 520.75,-191.5 520.75,-155.5 443,-155.5\"/>\n<text text-anchor=\"middle\" x=\"464.88\" y=\"-169.2\" font-family=\"Times,serif\" font-size=\"14.00\">feat</text>\n<polyline fill=\"none\" stroke=\"black\" points=\"486.75,-156.25 486.75,-191.5\"/>\n<text text-anchor=\"middle\" x=\"503.75\" y=\"-169.2\" font-family=\"Times,serif\" font-size=\"14.00\">60</text>\n</g>\n<!-- node_7b5eec11_78d4_4256_81e6_fd093d4f8a96&#45;&gt;node_6e6820fe_36c9_42f4_9f3a_ae4a8e92f9cb -->\n<g id=\"edge8\" class=\"edge\">\n<title>node_7b5eec11_78d4_4256_81e6_fd093d4f8a96&#45;&gt;node_6e6820fe_36c9_42f4_9f3a_ae4a8e92f9cb</title>\n<path fill=\"none\" stroke=\"black\" d=\"M398.81,-225.9C413.69,-216.7 430.58,-206.24 445.23,-197.18\"/>\n<polygon fill=\"black\" stroke=\"black\" points=\"446.83,-199.68 453.49,-191.45 443.15,-193.73 446.83,-199.68\"/>\n<text text-anchor=\"middle\" x=\"444.38\" y=\"-203.95\" font-family=\"Times,serif\" font-size=\"14.00\">1</text>\n</g>\n<!-- node_a77960e9_6d2b_4036_ae8e_bb103ecb3625 -->\n<g id=\"node3\" class=\"node\">\n<title>node_a77960e9_6d2b_4036_ae8e_bb103ecb3625</title>\n<polygon fill=\"none\" stroke=\"black\" points=\"100,-85.25 100,-121.25 177.75,-121.25 177.75,-85.25 100,-85.25\"/>\n<text text-anchor=\"middle\" x=\"121.88\" y=\"-98.95\" font-family=\"Times,serif\" font-size=\"14.00\">feat</text>\n<polyline fill=\"none\" stroke=\"black\" points=\"143.75,-86 143.75,-121.25\"/>\n<text text-anchor=\"middle\" x=\"160.75\" y=\"-98.95\" font-family=\"Times,serif\" font-size=\"14.00\">42</text>\n</g>\n<!-- node_51caa6b6_959d_4a6c_9419_f859286af9a9&#45;&gt;node_a77960e9_6d2b_4036_ae8e_bb103ecb3625 -->\n<g id=\"edge2\" class=\"edge\">\n<title>node_51caa6b6_959d_4a6c_9419_f859286af9a9&#45;&gt;node_a77960e9_6d2b_4036_ae8e_bb103ecb3625</title>\n<path fill=\"none\" stroke=\"black\" d=\"M229.96,-155.63C214.4,-146.85 195.18,-136.01 178.41,-126.55\"/>\n<polygon fill=\"black\" stroke=\"black\" points=\"180.29,-123.03 169.86,-121.16 176.85,-129.12 180.29,-123.03\"/>\n<text text-anchor=\"middle\" x=\"218.38\" y=\"-133.7\" font-family=\"Times,serif\" font-size=\"14.00\">0</text>\n</g>\n<!-- node_5bb9952c_bc81_42a5_a290_af9b67e54b84 -->\n<g id=\"node6\" class=\"node\">\n<title>node_5bb9952c_bc81_42a5_a290_af9b67e54b84</title>\n<polygon fill=\"none\" stroke=\"black\" points=\"221,-85.25 221,-121.25 298.75,-121.25 298.75,-85.25 221,-85.25\"/>\n<text text-anchor=\"middle\" x=\"242.88\" y=\"-98.95\" font-family=\"Times,serif\" font-size=\"14.00\">feat</text>\n<polyline fill=\"none\" stroke=\"black\" points=\"264.75,-86 264.75,-121.25\"/>\n<text text-anchor=\"middle\" x=\"281.75\" y=\"-98.95\" font-family=\"Times,serif\" font-size=\"14.00\">32</text>\n</g>\n<!-- node_51caa6b6_959d_4a6c_9419_f859286af9a9&#45;&gt;node_5bb9952c_bc81_42a5_a290_af9b67e54b84 -->\n<g id=\"edge5\" class=\"edge\">\n<title>node_51caa6b6_959d_4a6c_9419_f859286af9a9&#45;&gt;node_5bb9952c_bc81_42a5_a290_af9b67e54b84</title>\n<path fill=\"none\" stroke=\"black\" d=\"M259.88,-155.63C259.88,-148.44 259.88,-139.86 259.88,-131.79\"/>\n<polygon fill=\"black\" stroke=\"black\" points=\"263.38,-131.93 259.88,-121.93 256.38,-131.93 263.38,-131.93\"/>\n<text text-anchor=\"middle\" x=\"264.38\" y=\"-133.7\" font-family=\"Times,serif\" font-size=\"14.00\">1</text>\n</g>\n<!-- leaf_0eca8c49_bf66_49d1_8b96_2fd4c91da150 -->\n<g id=\"node4\" class=\"node\">\n<title>leaf_0eca8c49_bf66_49d1_8b96_2fd4c91da150</title>\n<polygon fill=\"none\" stroke=\"black\" points=\"0,-0.5 0,-51 77.75,-51 77.75,-0.5 0,-0.5\"/>\n<text text-anchor=\"middle\" x=\"25.62\" y=\"-33.7\" font-family=\"Times,serif\" font-size=\"14.00\">class</text>\n<polyline fill=\"none\" stroke=\"black\" points=\"51.25,-25.75 51.25,-51\"/>\n<text text-anchor=\"middle\" x=\"64.25\" y=\"-33.7\" font-family=\"Times,serif\" font-size=\"14.00\">0</text>\n<polyline fill=\"none\" stroke=\"black\" points=\"0,-25.75 77.75,-25.75\"/>\n<text text-anchor=\"middle\" x=\"26.38\" y=\"-8.45\" font-family=\"Times,serif\" font-size=\"14.00\">error</text>\n<polyline fill=\"none\" stroke=\"black\" points=\"52.75,-0.5 52.75,-25.75\"/>\n<text text-anchor=\"middle\" x=\"65.25\" y=\"-8.45\" font-family=\"Times,serif\" font-size=\"14.00\">0</text>\n</g>\n<!-- node_a77960e9_6d2b_4036_ae8e_bb103ecb3625&#45;&gt;leaf_0eca8c49_bf66_49d1_8b96_2fd4c91da150 -->\n<g id=\"edge3\" class=\"edge\">\n<title>node_a77960e9_6d2b_4036_ae8e_bb103ecb3625&#45;&gt;leaf_0eca8c49_bf66_49d1_8b96_2fd4c91da150</title>\n<path fill=\"none\" stroke=\"black\" d=\"M116.68,-85.49C105.74,-77.23 92.2,-67.01 79.49,-57.42\"/>\n<polygon fill=\"black\" stroke=\"black\" points=\"81.96,-54.14 71.87,-50.91 77.74,-59.73 81.96,-54.14\"/>\n<text text-anchor=\"middle\" x=\"108.38\" y=\"-63.45\" font-family=\"Times,serif\" font-size=\"14.00\">0</text>\n</g>\n<!-- leaf_9145e74d_b7bb_42b0_aac4_7d1ebbf75e9d -->\n<g id=\"node5\" class=\"node\">\n<title>leaf_9145e74d_b7bb_42b0_aac4_7d1ebbf75e9d</title>\n<polygon fill=\"none\" stroke=\"black\" points=\"95.5,-0.5 95.5,-51 182.25,-51 182.25,-0.5 95.5,-0.5\"/>\n<text text-anchor=\"middle\" x=\"123.62\" y=\"-33.7\" font-family=\"Times,serif\" font-size=\"14.00\">class</text>\n<polyline fill=\"none\" stroke=\"black\" points=\"151.75,-25.75 151.75,-51\"/>\n<text text-anchor=\"middle\" x=\"166.75\" y=\"-33.7\" font-family=\"Times,serif\" font-size=\"14.00\">1</text>\n<polyline fill=\"none\" stroke=\"black\" points=\"95.5,-25.75 182.25,-25.75\"/>\n<text text-anchor=\"middle\" x=\"121.88\" y=\"-8.45\" font-family=\"Times,serif\" font-size=\"14.00\">error</text>\n<polyline fill=\"none\" stroke=\"black\" points=\"148.25,-0.5 148.25,-25.75\"/>\n<text text-anchor=\"middle\" x=\"165.25\" y=\"-8.45\" font-family=\"Times,serif\" font-size=\"14.00\">10</text>\n</g>\n<!-- node_a77960e9_6d2b_4036_ae8e_bb103ecb3625&#45;&gt;leaf_9145e74d_b7bb_42b0_aac4_7d1ebbf75e9d -->\n<g id=\"edge4\" class=\"edge\">\n<title>node_a77960e9_6d2b_4036_ae8e_bb103ecb3625&#45;&gt;leaf_9145e74d_b7bb_42b0_aac4_7d1ebbf75e9d</title>\n<path fill=\"none\" stroke=\"black\" d=\"M138.88,-85.49C138.88,-78.51 138.88,-70.11 138.88,-61.88\"/>\n<polygon fill=\"black\" stroke=\"black\" points=\"142.38,-61.91 138.88,-51.91 135.38,-61.91 142.38,-61.91\"/>\n<text text-anchor=\"middle\" x=\"143.38\" y=\"-63.45\" font-family=\"Times,serif\" font-size=\"14.00\">1</text>\n</g>\n<!-- leaf_4de6c8ca_eae3_41f1_bd8d_3a28f157be39 -->\n<g id=\"node7\" class=\"node\">\n<title>leaf_4de6c8ca_eae3_41f1_bd8d_3a28f157be39</title>\n<polygon fill=\"none\" stroke=\"black\" points=\"200,-0.5 200,-51 277.75,-51 277.75,-0.5 200,-0.5\"/>\n<text text-anchor=\"middle\" x=\"225.62\" y=\"-33.7\" font-family=\"Times,serif\" font-size=\"14.00\">class</text>\n<polyline fill=\"none\" stroke=\"black\" points=\"251.25,-25.75 251.25,-51\"/>\n<text text-anchor=\"middle\" x=\"264.25\" y=\"-33.7\" font-family=\"Times,serif\" font-size=\"14.00\">0</text>\n<polyline fill=\"none\" stroke=\"black\" points=\"200,-25.75 277.75,-25.75\"/>\n<text text-anchor=\"middle\" x=\"226.38\" y=\"-8.45\" font-family=\"Times,serif\" font-size=\"14.00\">error</text>\n<polyline fill=\"none\" stroke=\"black\" points=\"252.75,-0.5 252.75,-25.75\"/>\n<text text-anchor=\"middle\" x=\"265.25\" y=\"-8.45\" font-family=\"Times,serif\" font-size=\"14.00\">2</text>\n</g>\n<!-- node_5bb9952c_bc81_42a5_a290_af9b67e54b84&#45;&gt;leaf_4de6c8ca_eae3_41f1_bd8d_3a28f157be39 -->\n<g id=\"edge6\" class=\"edge\">\n<title>node_5bb9952c_bc81_42a5_a290_af9b67e54b84&#45;&gt;leaf_4de6c8ca_eae3_41f1_bd8d_3a28f157be39</title>\n<path fill=\"none\" stroke=\"black\" d=\"M255.21,-85.49C253.23,-78.35 250.83,-69.73 248.49,-61.32\"/>\n<polygon fill=\"black\" stroke=\"black\" points=\"251.65,-60.6 245.59,-51.91 244.9,-62.48 251.65,-60.6\"/>\n<text text-anchor=\"middle\" x=\"257.38\" y=\"-63.45\" font-family=\"Times,serif\" font-size=\"14.00\">0</text>\n</g>\n<!-- leaf_19c87cdf_b056_4b96_a364_6255d938f611 -->\n<g id=\"node8\" class=\"node\">\n<title>leaf_19c87cdf_b056_4b96_a364_6255d938f611</title>\n<polygon fill=\"none\" stroke=\"black\" points=\"295.5,-0.5 295.5,-51 382.25,-51 382.25,-0.5 295.5,-0.5\"/>\n<text text-anchor=\"middle\" x=\"323.62\" y=\"-33.7\" font-family=\"Times,serif\" font-size=\"14.00\">class</text>\n<polyline fill=\"none\" stroke=\"black\" points=\"351.75,-25.75 351.75,-51\"/>\n<text text-anchor=\"middle\" x=\"366.75\" y=\"-33.7\" font-family=\"Times,serif\" font-size=\"14.00\">1</text>\n<polyline fill=\"none\" stroke=\"black\" points=\"295.5,-25.75 382.25,-25.75\"/>\n<text text-anchor=\"middle\" x=\"321.88\" y=\"-8.45\" font-family=\"Times,serif\" font-size=\"14.00\">error</text>\n<polyline fill=\"none\" stroke=\"black\" points=\"348.25,-0.5 348.25,-25.75\"/>\n<text text-anchor=\"middle\" x=\"365.25\" y=\"-8.45\" font-family=\"Times,serif\" font-size=\"14.00\">51</text>\n</g>\n<!-- node_5bb9952c_bc81_42a5_a290_af9b67e54b84&#45;&gt;leaf_19c87cdf_b056_4b96_a364_6255d938f611 -->\n<g id=\"edge7\" class=\"edge\">\n<title>node_5bb9952c_bc81_42a5_a290_af9b67e54b84&#45;&gt;leaf_19c87cdf_b056_4b96_a364_6255d938f611</title>\n<path fill=\"none\" stroke=\"black\" d=\"M277.41,-85.49C285.8,-77.47 296.13,-67.6 305.92,-58.25\"/>\n<polygon fill=\"black\" stroke=\"black\" points=\"307.79,-61.35 312.6,-51.91 302.95,-56.29 307.79,-61.35\"/>\n<text text-anchor=\"middle\" x=\"309.38\" y=\"-63.45\" font-family=\"Times,serif\" font-size=\"14.00\">1</text>\n</g>\n<!-- node_c426a634_8ac1_4968_a587_b65c7b0808ed -->\n<g id=\"node10\" class=\"node\">\n<title>node_c426a634_8ac1_4968_a587_b65c7b0808ed</title>\n<polygon fill=\"none\" stroke=\"black\" points=\"443,-85.25 443,-121.25 520.75,-121.25 520.75,-85.25 443,-85.25\"/>\n<text text-anchor=\"middle\" x=\"464.88\" y=\"-98.95\" font-family=\"Times,serif\" font-size=\"14.00\">feat</text>\n<polyline fill=\"none\" stroke=\"black\" points=\"486.75,-86 486.75,-121.25\"/>\n<text text-anchor=\"middle\" x=\"503.75\" y=\"-98.95\" font-family=\"Times,serif\" font-size=\"14.00\">78</text>\n</g>\n<!-- node_6e6820fe_36c9_42f4_9f3a_ae4a8e92f9cb&#45;&gt;node_c426a634_8ac1_4968_a587_b65c7b0808ed -->\n<g id=\"edge9\" class=\"edge\">\n<title>node_6e6820fe_36c9_42f4_9f3a_ae4a8e92f9cb&#45;&gt;node_c426a634_8ac1_4968_a587_b65c7b0808ed</title>\n<path fill=\"none\" stroke=\"black\" d=\"M481.88,-155.63C481.88,-148.44 481.88,-139.86 481.88,-131.79\"/>\n<polygon fill=\"black\" stroke=\"black\" points=\"485.38,-131.93 481.88,-121.93 478.38,-131.93 485.38,-131.93\"/>\n<text text-anchor=\"middle\" x=\"486.38\" y=\"-133.7\" font-family=\"Times,serif\" font-size=\"14.00\">0</text>\n</g>\n<!-- node_0bf43fd7_b3cc_4b8e_92cf_c2d15284402b -->\n<g id=\"node13\" class=\"node\">\n<title>node_0bf43fd7_b3cc_4b8e_92cf_c2d15284402b</title>\n<polygon fill=\"none\" stroke=\"black\" points=\"605,-85.25 605,-121.25 682.75,-121.25 682.75,-85.25 605,-85.25\"/>\n<text text-anchor=\"middle\" x=\"626.88\" y=\"-98.95\" font-family=\"Times,serif\" font-size=\"14.00\">feat</text>\n<polyline fill=\"none\" stroke=\"black\" points=\"648.75,-86 648.75,-121.25\"/>\n<text text-anchor=\"middle\" x=\"665.75\" y=\"-98.95\" font-family=\"Times,serif\" font-size=\"14.00\">58</text>\n</g>\n<!-- node_6e6820fe_36c9_42f4_9f3a_ae4a8e92f9cb&#45;&gt;node_0bf43fd7_b3cc_4b8e_92cf_c2d15284402b -->\n<g id=\"edge12\" class=\"edge\">\n<title>node_6e6820fe_36c9_42f4_9f3a_ae4a8e92f9cb&#45;&gt;node_0bf43fd7_b3cc_4b8e_92cf_c2d15284402b</title>\n<path fill=\"none\" stroke=\"black\" d=\"M520.68,-156.15C543.04,-146.73 571.35,-134.8 595.19,-124.76\"/>\n<polygon fill=\"black\" stroke=\"black\" points=\"596.25,-127.69 604.11,-120.58 593.53,-121.24 596.25,-127.69\"/>\n<text text-anchor=\"middle\" x=\"587.38\" y=\"-133.7\" font-family=\"Times,serif\" font-size=\"14.00\">1</text>\n</g>\n<!-- leaf_851c0254_c9ad_4821_8554_1fe5df4b8078 -->\n<g id=\"node11\" class=\"node\">\n<title>leaf_851c0254_c9ad_4821_8554_1fe5df4b8078</title>\n<polygon fill=\"none\" stroke=\"black\" points=\"400,-0.5 400,-51 477.75,-51 477.75,-0.5 400,-0.5\"/>\n<text text-anchor=\"middle\" x=\"425.62\" y=\"-33.7\" font-family=\"Times,serif\" font-size=\"14.00\">class</text>\n<polyline fill=\"none\" stroke=\"black\" points=\"451.25,-25.75 451.25,-51\"/>\n<text text-anchor=\"middle\" x=\"464.25\" y=\"-33.7\" font-family=\"Times,serif\" font-size=\"14.00\">0</text>\n<polyline fill=\"none\" stroke=\"black\" points=\"400,-25.75 477.75,-25.75\"/>\n<text text-anchor=\"middle\" x=\"426.38\" y=\"-8.45\" font-family=\"Times,serif\" font-size=\"14.00\">error</text>\n<polyline fill=\"none\" stroke=\"black\" points=\"452.75,-0.5 452.75,-25.75\"/>\n<text text-anchor=\"middle\" x=\"465.25\" y=\"-8.45\" font-family=\"Times,serif\" font-size=\"14.00\">0</text>\n</g>\n<!-- node_c426a634_8ac1_4968_a587_b65c7b0808ed&#45;&gt;leaf_851c0254_c9ad_4821_8554_1fe5df4b8078 -->\n<g id=\"edge10\" class=\"edge\">\n<title>node_c426a634_8ac1_4968_a587_b65c7b0808ed&#45;&gt;leaf_851c0254_c9ad_4821_8554_1fe5df4b8078</title>\n<path fill=\"none\" stroke=\"black\" d=\"M472.33,-85.49C468.08,-78.03 462.91,-68.96 457.93,-60.2\"/>\n<polygon fill=\"black\" stroke=\"black\" points=\"460.62,-58.87 452.63,-51.91 454.54,-62.33 460.62,-58.87\"/>\n<text text-anchor=\"middle\" x=\"471.38\" y=\"-63.45\" font-family=\"Times,serif\" font-size=\"14.00\">0</text>\n</g>\n<!-- leaf_4226e5ef_82f1_482f_9548_1f0e39b3b769 -->\n<g id=\"node12\" class=\"node\">\n<title>leaf_4226e5ef_82f1_482f_9548_1f0e39b3b769</title>\n<polygon fill=\"none\" stroke=\"black\" points=\"495.5,-0.5 495.5,-51 582.25,-51 582.25,-0.5 495.5,-0.5\"/>\n<text text-anchor=\"middle\" x=\"523.62\" y=\"-33.7\" font-family=\"Times,serif\" font-size=\"14.00\">class</text>\n<polyline fill=\"none\" stroke=\"black\" points=\"551.75,-25.75 551.75,-51\"/>\n<text text-anchor=\"middle\" x=\"566.75\" y=\"-33.7\" font-family=\"Times,serif\" font-size=\"14.00\">1</text>\n<polyline fill=\"none\" stroke=\"black\" points=\"495.5,-25.75 582.25,-25.75\"/>\n<text text-anchor=\"middle\" x=\"521.88\" y=\"-8.45\" font-family=\"Times,serif\" font-size=\"14.00\">error</text>\n<polyline fill=\"none\" stroke=\"black\" points=\"548.25,-0.5 548.25,-25.75\"/>\n<text text-anchor=\"middle\" x=\"565.25\" y=\"-8.45\" font-family=\"Times,serif\" font-size=\"14.00\">32</text>\n</g>\n<!-- node_c426a634_8ac1_4968_a587_b65c7b0808ed&#45;&gt;leaf_4226e5ef_82f1_482f_9548_1f0e39b3b769 -->\n<g id=\"edge11\" class=\"edge\">\n<title>node_c426a634_8ac1_4968_a587_b65c7b0808ed&#45;&gt;leaf_4226e5ef_82f1_482f_9548_1f0e39b3b769</title>\n<path fill=\"none\" stroke=\"black\" d=\"M494.53,-85.49C500.28,-77.87 507.3,-68.57 514.04,-59.64\"/>\n<polygon fill=\"black\" stroke=\"black\" points=\"517.4,-62 520.64,-51.91 511.82,-57.78 517.4,-62\"/>\n<text text-anchor=\"middle\" x=\"518.38\" y=\"-63.45\" font-family=\"Times,serif\" font-size=\"14.00\">1</text>\n</g>\n<!-- leaf_b380c4d0_5895_4ef0_a9ce_10d032ee0c98 -->\n<g id=\"node14\" class=\"node\">\n<title>leaf_b380c4d0_5895_4ef0_a9ce_10d032ee0c98</title>\n<polygon fill=\"none\" stroke=\"black\" points=\"600.5,-0.5 600.5,-51 687.25,-51 687.25,-0.5 600.5,-0.5\"/>\n<text text-anchor=\"middle\" x=\"628.62\" y=\"-33.7\" font-family=\"Times,serif\" font-size=\"14.00\">class</text>\n<polyline fill=\"none\" stroke=\"black\" points=\"656.75,-25.75 656.75,-51\"/>\n<text text-anchor=\"middle\" x=\"671.75\" y=\"-33.7\" font-family=\"Times,serif\" font-size=\"14.00\">0</text>\n<polyline fill=\"none\" stroke=\"black\" points=\"600.5,-25.75 687.25,-25.75\"/>\n<text text-anchor=\"middle\" x=\"626.88\" y=\"-8.45\" font-family=\"Times,serif\" font-size=\"14.00\">error</text>\n<polyline fill=\"none\" stroke=\"black\" points=\"653.25,-0.5 653.25,-25.75\"/>\n<text text-anchor=\"middle\" x=\"670.25\" y=\"-8.45\" font-family=\"Times,serif\" font-size=\"14.00\">17</text>\n</g>\n<!-- node_0bf43fd7_b3cc_4b8e_92cf_c2d15284402b&#45;&gt;leaf_b380c4d0_5895_4ef0_a9ce_10d032ee0c98 -->\n<g id=\"edge13\" class=\"edge\">\n<title>node_0bf43fd7_b3cc_4b8e_92cf_c2d15284402b&#45;&gt;leaf_b380c4d0_5895_4ef0_a9ce_10d032ee0c98</title>\n<path fill=\"none\" stroke=\"black\" d=\"M643.88,-85.49C643.88,-78.51 643.88,-70.11 643.88,-61.88\"/>\n<polygon fill=\"black\" stroke=\"black\" points=\"647.38,-61.91 643.88,-51.91 640.38,-61.91 647.38,-61.91\"/>\n<text text-anchor=\"middle\" x=\"648.38\" y=\"-63.45\" font-family=\"Times,serif\" font-size=\"14.00\">0</text>\n</g>\n<!-- leaf_86f828d5_edde_4089_a586_9ee17b4ade48 -->\n<g id=\"node15\" class=\"node\">\n<title>leaf_86f828d5_edde_4089_a586_9ee17b4ade48</title>\n<polygon fill=\"none\" stroke=\"black\" points=\"705,-0.5 705,-51 782.75,-51 782.75,-0.5 705,-0.5\"/>\n<text text-anchor=\"middle\" x=\"730.62\" y=\"-33.7\" font-family=\"Times,serif\" font-size=\"14.00\">class</text>\n<polyline fill=\"none\" stroke=\"black\" points=\"756.25,-25.75 756.25,-51\"/>\n<text text-anchor=\"middle\" x=\"769.25\" y=\"-33.7\" font-family=\"Times,serif\" font-size=\"14.00\">1</text>\n<polyline fill=\"none\" stroke=\"black\" points=\"705,-25.75 782.75,-25.75\"/>\n<text text-anchor=\"middle\" x=\"731.38\" y=\"-8.45\" font-family=\"Times,serif\" font-size=\"14.00\">error</text>\n<polyline fill=\"none\" stroke=\"black\" points=\"757.75,-0.5 757.75,-25.75\"/>\n<text text-anchor=\"middle\" x=\"770.25\" y=\"-8.45\" font-family=\"Times,serif\" font-size=\"14.00\">0</text>\n</g>\n<!-- node_0bf43fd7_b3cc_4b8e_92cf_c2d15284402b&#45;&gt;leaf_86f828d5_edde_4089_a586_9ee17b4ade48 -->\n<g id=\"edge14\" class=\"edge\">\n<title>node_0bf43fd7_b3cc_4b8e_92cf_c2d15284402b&#45;&gt;leaf_86f828d5_edde_4089_a586_9ee17b4ade48</title>\n<path fill=\"none\" stroke=\"black\" d=\"M666.07,-85.49C677.01,-77.23 690.55,-67.01 703.26,-57.42\"/>\n<polygon fill=\"black\" stroke=\"black\" points=\"705.01,-59.73 710.88,-50.91 700.79,-54.14 705.01,-59.73\"/>\n<text text-anchor=\"middle\" x=\"704.38\" y=\"-63.45\" font-family=\"Times,serif\" font-size=\"14.00\">1</text>\n</g>\n</g>\n</svg>\n",
      "text/plain": "<graphviz.sources.Source at 0x7fdfdeb6b370>"
     },
     "execution_count": 13,
     "metadata": {},
     "output_type": "execute_result"
    }
   ],
   "source": [
    " ### Printing the tree\n",
    "dot = clf.export_to_graphviz_dot()\n",
    "source = graphviz.Source(dot)\n",
    "source"
   ],
   "metadata": {
    "collapsed": false,
    "ExecuteTime": {
     "end_time": "2023-05-15T08:24:52.586143622Z",
     "start_time": "2023-05-15T08:24:52.086148991Z"
    }
   }
  },
  {
   "cell_type": "markdown",
   "source": [
    "## Using PyTrees to find Less Greedy Decision Trees with LGDT algorithm"
   ],
   "metadata": {
    "collapsed": false
   }
  },
  {
   "cell_type": "code",
   "execution_count": 20,
   "outputs": [],
   "source": [
    "from pytrees.lgdt import LGDTClassifier\n",
    "from pytrees import (\n",
    "                    DataStructure,\n",
    "                    FitMethod\n",
    "                    )"
   ],
   "metadata": {
    "collapsed": false,
    "ExecuteTime": {
     "end_time": "2023-05-15T08:39:02.559396961Z",
     "start_time": "2023-05-15T08:39:02.552693940Z"
    }
   }
  },
  {
   "cell_type": "markdown",
   "source": [
    "### Creating the model\n",
    "There are several parameters that can be tuned to improve the performance of the algorithm. The most important ones are:\n",
    "- **min_sup**: The minimum support of a node to be considered.\n",
    "- **max_depth**: The maximum depth of the tree.\n",
    "- **parallel**: Whether to use parallelism (Can be buggy du to extensive tree generation on leaves).\n",
    "- **data_structure**: Data structure to use. The available options are:\n",
    "    - **Bitset**: Bitset data structure.\n",
    "    - **ReversibleBitset**: Reversible Bitset data structure.\n",
    "    - **Raw**: Using Raw Data.\n",
    "    - **Horizontal**: Horizontal data structure.\n",
    "- **fit_method**: Fit method to use. The available options are:\n",
    "    - **MurTree**: MurTree fit method.\n",
    "    - **InfoGain**: Information Gain fit method."
   ],
   "metadata": {
    "collapsed": false
   }
  },
  {
   "cell_type": "code",
   "execution_count": 21,
   "outputs": [],
   "source": [
    "### Creating the model\n",
    "clf_lgdt = LGDTClassifier(\n",
    "    min_sup=1,\n",
    "    max_depth=3,\n",
    "    parallel=False, # Whether to use parallelism (Can be buggy du to extensive tree generation on leaves)\n",
    "    data_structure=DataStructure.ReversibleBitset, # Data structure to use.\n",
    "    fit_method=FitMethod.MurTree, # Fit method to use.\n",
    ")"
   ],
   "metadata": {
    "collapsed": false,
    "ExecuteTime": {
     "end_time": "2023-05-15T08:39:04.880411350Z",
     "start_time": "2023-05-15T08:39:04.876206007Z"
    }
   }
  },
  {
   "cell_type": "code",
   "execution_count": 22,
   "outputs": [
    {
     "name": "stdout",
     "output_type": "stream",
     "text": [
      "Fitting the model\n",
      "Done\n"
     ]
    }
   ],
   "source": [
    "### Fitting the model\n",
    "print(\"Fitting the model\")\n",
    "clf_lgdt.fit(X, y)\n",
    "print(\"Done\")"
   ],
   "metadata": {
    "collapsed": false,
    "ExecuteTime": {
     "end_time": "2023-05-15T08:39:06.188661626Z",
     "start_time": "2023-05-15T08:39:06.146010575Z"
    }
   }
  },
  {
   "cell_type": "code",
   "execution_count": 23,
   "outputs": [
    {
     "name": "stdout",
     "output_type": "stream",
     "text": [
      "{'duration': {'nanos': 5041152, 'secs': 0},\n",
      " 'duration_milliseconds': 5,\n",
      " 'error': 119}\n"
     ]
    }
   ],
   "source": [
    "### Printing the statistics\n",
    "pprint(clf_lgdt.statistics)"
   ],
   "metadata": {
    "collapsed": false,
    "ExecuteTime": {
     "end_time": "2023-05-15T08:39:19.216490235Z",
     "start_time": "2023-05-15T08:39:19.214318132Z"
    }
   }
  },
  {
   "cell_type": "code",
   "execution_count": 24,
   "outputs": [
    {
     "name": "stdout",
     "output_type": "stream",
     "text": [
      "Accuracy: 0.853448275862069\n"
     ]
    }
   ],
   "source": [
    "### Computing the accuracy\n",
    "print(\"Accuracy:\", clf_lgdt.score(X, y))"
   ],
   "metadata": {
    "collapsed": false,
    "ExecuteTime": {
     "end_time": "2023-05-15T08:39:58.947799731Z",
     "start_time": "2023-05-15T08:39:58.905691955Z"
    }
   }
  },
  {
   "cell_type": "code",
   "execution_count": 25,
   "outputs": [
    {
     "data": {
      "image/svg+xml": "<?xml version=\"1.0\" encoding=\"UTF-8\" standalone=\"no\"?>\n<!DOCTYPE svg PUBLIC \"-//W3C//DTD SVG 1.1//EN\"\n \"http://www.w3.org/Graphics/SVG/1.1/DTD/svg11.dtd\">\n<!-- Generated by graphviz version 8.0.5 (0)\n -->\n<!-- Title: Tree Pages: 1 -->\n<svg width=\"782pt\" height=\"285pt\"\n viewBox=\"0.00 0.00 782.25 284.75\" xmlns=\"http://www.w3.org/2000/svg\" xmlns:xlink=\"http://www.w3.org/1999/xlink\">\n<g id=\"graph0\" class=\"graph\" transform=\"scale(1 1) rotate(0) translate(4 280.75)\">\n<title>Tree</title>\n<polygon fill=\"white\" stroke=\"none\" points=\"-4,4 -4,-280.75 778.25,-280.75 778.25,4 -4,4\"/>\n<!-- node_3f102bd8_93eb_4822_90b0_1f746c43729d -->\n<g id=\"node1\" class=\"node\">\n<title>node_3f102bd8_93eb_4822_90b0_1f746c43729d</title>\n<polygon fill=\"none\" stroke=\"black\" points=\"304,-225.75 304,-276.25 399.75,-276.25 399.75,-225.75 304,-225.75\"/>\n<text text-anchor=\"middle\" x=\"332.38\" y=\"-258.95\" font-family=\"Times,serif\" font-size=\"14.00\">feat</text>\n<polyline fill=\"none\" stroke=\"black\" points=\"360.75,-251 360.75,-276.25\"/>\n<text text-anchor=\"middle\" x=\"380.25\" y=\"-258.95\" font-family=\"Times,serif\" font-size=\"14.00\">5</text>\n<polyline fill=\"none\" stroke=\"black\" points=\"304,-251 399.75,-251\"/>\n<text text-anchor=\"middle\" x=\"330.38\" y=\"-233.7\" font-family=\"Times,serif\" font-size=\"14.00\">error</text>\n<polyline fill=\"none\" stroke=\"black\" points=\"356.75,-225.75 356.75,-251\"/>\n<text text-anchor=\"middle\" x=\"378.25\" y=\"-233.7\" font-family=\"Times,serif\" font-size=\"14.00\">119</text>\n</g>\n<!-- node_3f3fca47_82da_4c77_904b_16a574543641 -->\n<g id=\"node2\" class=\"node\">\n<title>node_3f3fca47_82da_4c77_904b_16a574543641</title>\n<polygon fill=\"none\" stroke=\"black\" points=\"213,-155.5 213,-191.5 290.75,-191.5 290.75,-155.5 213,-155.5\"/>\n<text text-anchor=\"middle\" x=\"234.88\" y=\"-169.2\" font-family=\"Times,serif\" font-size=\"14.00\">feat</text>\n<polyline fill=\"none\" stroke=\"black\" points=\"256.75,-156.25 256.75,-191.5\"/>\n<text text-anchor=\"middle\" x=\"273.75\" y=\"-169.2\" font-family=\"Times,serif\" font-size=\"14.00\">42</text>\n</g>\n<!-- node_3f102bd8_93eb_4822_90b0_1f746c43729d&#45;&gt;node_3f3fca47_82da_4c77_904b_16a574543641 -->\n<g id=\"edge1\" class=\"edge\">\n<title>node_3f102bd8_93eb_4822_90b0_1f746c43729d&#45;&gt;node_3f3fca47_82da_4c77_904b_16a574543641</title>\n<path fill=\"none\" stroke=\"black\" d=\"M319.96,-225.9C308.12,-216.96 294.71,-206.84 282.94,-197.96\"/>\n<polygon fill=\"black\" stroke=\"black\" points=\"285.41,-194.68 275.32,-191.45 281.19,-200.26 285.41,-194.68\"/>\n<text text-anchor=\"middle\" x=\"312.38\" y=\"-203.95\" font-family=\"Times,serif\" font-size=\"14.00\">0</text>\n</g>\n<!-- node_d5a8877b_cf6a_4822_9f31_a78d06f88024 -->\n<g id=\"node9\" class=\"node\">\n<title>node_d5a8877b_cf6a_4822_9f31_a78d06f88024</title>\n<polygon fill=\"none\" stroke=\"black\" points=\"434,-155.5 434,-191.5 511.75,-191.5 511.75,-155.5 434,-155.5\"/>\n<text text-anchor=\"middle\" x=\"455.88\" y=\"-169.2\" font-family=\"Times,serif\" font-size=\"14.00\">feat</text>\n<polyline fill=\"none\" stroke=\"black\" points=\"477.75,-156.25 477.75,-191.5\"/>\n<text text-anchor=\"middle\" x=\"494.75\" y=\"-169.2\" font-family=\"Times,serif\" font-size=\"14.00\">50</text>\n</g>\n<!-- node_3f102bd8_93eb_4822_90b0_1f746c43729d&#45;&gt;node_d5a8877b_cf6a_4822_9f31_a78d06f88024 -->\n<g id=\"edge8\" class=\"edge\">\n<title>node_3f102bd8_93eb_4822_90b0_1f746c43729d&#45;&gt;node_d5a8877b_cf6a_4822_9f31_a78d06f88024</title>\n<path fill=\"none\" stroke=\"black\" d=\"M390.49,-225.9C405.24,-216.7 422,-206.24 436.53,-197.18\"/>\n<polygon fill=\"black\" stroke=\"black\" points=\"438.09,-199.71 444.72,-191.45 434.38,-193.77 438.09,-199.71\"/>\n<text text-anchor=\"middle\" x=\"435.38\" y=\"-203.95\" font-family=\"Times,serif\" font-size=\"14.00\">1</text>\n</g>\n<!-- node_db9f80f9_c7d6_49b1_a292_aefb44bca432 -->\n<g id=\"node3\" class=\"node\">\n<title>node_db9f80f9_c7d6_49b1_a292_aefb44bca432</title>\n<polygon fill=\"none\" stroke=\"black\" points=\"100.5,-85.25 100.5,-121.25 169.25,-121.25 169.25,-85.25 100.5,-85.25\"/>\n<text text-anchor=\"middle\" x=\"122.38\" y=\"-98.95\" font-family=\"Times,serif\" font-size=\"14.00\">feat</text>\n<polyline fill=\"none\" stroke=\"black\" points=\"144.25,-86 144.25,-121.25\"/>\n<text text-anchor=\"middle\" x=\"156.75\" y=\"-98.95\" font-family=\"Times,serif\" font-size=\"14.00\">4</text>\n</g>\n<!-- node_3f3fca47_82da_4c77_904b_16a574543641&#45;&gt;node_db9f80f9_c7d6_49b1_a292_aefb44bca432 -->\n<g id=\"edge2\" class=\"edge\">\n<title>node_3f3fca47_82da_4c77_904b_16a574543641&#45;&gt;node_db9f80f9_c7d6_49b1_a292_aefb44bca432</title>\n<path fill=\"none\" stroke=\"black\" d=\"M222.95,-155.63C207.91,-146.85 189.32,-136.01 173.1,-126.55\"/>\n<polygon fill=\"black\" stroke=\"black\" points=\"175.27,-123.18 164.87,-121.16 171.74,-129.23 175.27,-123.18\"/>\n<text text-anchor=\"middle\" x=\"212.38\" y=\"-133.7\" font-family=\"Times,serif\" font-size=\"14.00\">0</text>\n</g>\n<!-- node_af0b4191_3a07_456d_a157_7dcd13c98283 -->\n<g id=\"node6\" class=\"node\">\n<title>node_af0b4191_3a07_456d_a157_7dcd13c98283</title>\n<polygon fill=\"none\" stroke=\"black\" points=\"213,-85.25 213,-121.25 290.75,-121.25 290.75,-85.25 213,-85.25\"/>\n<text text-anchor=\"middle\" x=\"234.88\" y=\"-98.95\" font-family=\"Times,serif\" font-size=\"14.00\">feat</text>\n<polyline fill=\"none\" stroke=\"black\" points=\"256.75,-86 256.75,-121.25\"/>\n<text text-anchor=\"middle\" x=\"273.75\" y=\"-98.95\" font-family=\"Times,serif\" font-size=\"14.00\">78</text>\n</g>\n<!-- node_3f3fca47_82da_4c77_904b_16a574543641&#45;&gt;node_af0b4191_3a07_456d_a157_7dcd13c98283 -->\n<g id=\"edge5\" class=\"edge\">\n<title>node_3f3fca47_82da_4c77_904b_16a574543641&#45;&gt;node_af0b4191_3a07_456d_a157_7dcd13c98283</title>\n<path fill=\"none\" stroke=\"black\" d=\"M251.88,-155.63C251.88,-148.44 251.88,-139.86 251.88,-131.79\"/>\n<polygon fill=\"black\" stroke=\"black\" points=\"255.38,-131.93 251.88,-121.93 248.38,-131.93 255.38,-131.93\"/>\n<text text-anchor=\"middle\" x=\"256.38\" y=\"-133.7\" font-family=\"Times,serif\" font-size=\"14.00\">1</text>\n</g>\n<!-- leaf_434e0195_3bc6_4760_bd62_c9c56cc21021 -->\n<g id=\"node4\" class=\"node\">\n<title>leaf_434e0195_3bc6_4760_bd62_c9c56cc21021</title>\n<polygon fill=\"none\" stroke=\"black\" points=\"0,-0.5 0,-51 77.75,-51 77.75,-0.5 0,-0.5\"/>\n<text text-anchor=\"middle\" x=\"25.62\" y=\"-33.7\" font-family=\"Times,serif\" font-size=\"14.00\">class</text>\n<polyline fill=\"none\" stroke=\"black\" points=\"51.25,-25.75 51.25,-51\"/>\n<text text-anchor=\"middle\" x=\"64.25\" y=\"-33.7\" font-family=\"Times,serif\" font-size=\"14.00\">0</text>\n<polyline fill=\"none\" stroke=\"black\" points=\"0,-25.75 77.75,-25.75\"/>\n<text text-anchor=\"middle\" x=\"26.38\" y=\"-8.45\" font-family=\"Times,serif\" font-size=\"14.00\">error</text>\n<polyline fill=\"none\" stroke=\"black\" points=\"52.75,-0.5 52.75,-25.75\"/>\n<text text-anchor=\"middle\" x=\"65.25\" y=\"-8.45\" font-family=\"Times,serif\" font-size=\"14.00\">0</text>\n</g>\n<!-- node_db9f80f9_c7d6_49b1_a292_aefb44bca432&#45;&gt;leaf_434e0195_3bc6_4760_bd62_c9c56cc21021 -->\n<g id=\"edge3\" class=\"edge\">\n<title>node_db9f80f9_c7d6_49b1_a292_aefb44bca432&#45;&gt;leaf_434e0195_3bc6_4760_bd62_c9c56cc21021</title>\n<path fill=\"none\" stroke=\"black\" d=\"M113.57,-85.49C103.17,-77.31 90.31,-67.21 78.22,-57.69\"/>\n<polygon fill=\"black\" stroke=\"black\" points=\"80.62,-54.34 70.59,-50.91 76.29,-59.84 80.62,-54.34\"/>\n<text text-anchor=\"middle\" x=\"106.38\" y=\"-63.45\" font-family=\"Times,serif\" font-size=\"14.00\">0</text>\n</g>\n<!-- leaf_c1fdecea_ca3c_46e0_9ae2_8c0460ea8416 -->\n<g id=\"node5\" class=\"node\">\n<title>leaf_c1fdecea_ca3c_46e0_9ae2_8c0460ea8416</title>\n<polygon fill=\"none\" stroke=\"black\" points=\"96,-0.5 96,-51 173.75,-51 173.75,-0.5 96,-0.5\"/>\n<text text-anchor=\"middle\" x=\"121.62\" y=\"-33.7\" font-family=\"Times,serif\" font-size=\"14.00\">class</text>\n<polyline fill=\"none\" stroke=\"black\" points=\"147.25,-25.75 147.25,-51\"/>\n<text text-anchor=\"middle\" x=\"160.25\" y=\"-33.7\" font-family=\"Times,serif\" font-size=\"14.00\">1</text>\n<polyline fill=\"none\" stroke=\"black\" points=\"96,-25.75 173.75,-25.75\"/>\n<text text-anchor=\"middle\" x=\"122.38\" y=\"-8.45\" font-family=\"Times,serif\" font-size=\"14.00\">error</text>\n<polyline fill=\"none\" stroke=\"black\" points=\"148.75,-0.5 148.75,-25.75\"/>\n<text text-anchor=\"middle\" x=\"161.25\" y=\"-8.45\" font-family=\"Times,serif\" font-size=\"14.00\">0</text>\n</g>\n<!-- node_db9f80f9_c7d6_49b1_a292_aefb44bca432&#45;&gt;leaf_c1fdecea_ca3c_46e0_9ae2_8c0460ea8416 -->\n<g id=\"edge4\" class=\"edge\">\n<title>node_db9f80f9_c7d6_49b1_a292_aefb44bca432&#45;&gt;leaf_c1fdecea_ca3c_46e0_9ae2_8c0460ea8416</title>\n<path fill=\"none\" stroke=\"black\" d=\"M134.88,-85.49C134.88,-78.51 134.88,-70.11 134.88,-61.88\"/>\n<polygon fill=\"black\" stroke=\"black\" points=\"138.38,-61.91 134.88,-51.91 131.38,-61.91 138.38,-61.91\"/>\n<text text-anchor=\"middle\" x=\"139.38\" y=\"-63.45\" font-family=\"Times,serif\" font-size=\"14.00\">1</text>\n</g>\n<!-- leaf_87615d1f_e73b_4b8f_937d_fa9a9aeec3f1 -->\n<g id=\"node7\" class=\"node\">\n<title>leaf_87615d1f_e73b_4b8f_937d_fa9a9aeec3f1</title>\n<polygon fill=\"none\" stroke=\"black\" points=\"192,-0.5 192,-51 269.75,-51 269.75,-0.5 192,-0.5\"/>\n<text text-anchor=\"middle\" x=\"217.62\" y=\"-33.7\" font-family=\"Times,serif\" font-size=\"14.00\">class</text>\n<polyline fill=\"none\" stroke=\"black\" points=\"243.25,-25.75 243.25,-51\"/>\n<text text-anchor=\"middle\" x=\"256.25\" y=\"-33.7\" font-family=\"Times,serif\" font-size=\"14.00\">0</text>\n<polyline fill=\"none\" stroke=\"black\" points=\"192,-25.75 269.75,-25.75\"/>\n<text text-anchor=\"middle\" x=\"218.38\" y=\"-8.45\" font-family=\"Times,serif\" font-size=\"14.00\">error</text>\n<polyline fill=\"none\" stroke=\"black\" points=\"244.75,-0.5 244.75,-25.75\"/>\n<text text-anchor=\"middle\" x=\"257.25\" y=\"-8.45\" font-family=\"Times,serif\" font-size=\"14.00\">0</text>\n</g>\n<!-- node_af0b4191_3a07_456d_a157_7dcd13c98283&#45;&gt;leaf_87615d1f_e73b_4b8f_937d_fa9a9aeec3f1 -->\n<g id=\"edge6\" class=\"edge\">\n<title>node_af0b4191_3a07_456d_a157_7dcd13c98283&#45;&gt;leaf_87615d1f_e73b_4b8f_937d_fa9a9aeec3f1</title>\n<path fill=\"none\" stroke=\"black\" d=\"M247.21,-85.49C245.23,-78.35 242.83,-69.73 240.49,-61.32\"/>\n<polygon fill=\"black\" stroke=\"black\" points=\"243.65,-60.6 237.59,-51.91 236.9,-62.48 243.65,-60.6\"/>\n<text text-anchor=\"middle\" x=\"249.38\" y=\"-63.45\" font-family=\"Times,serif\" font-size=\"14.00\">0</text>\n</g>\n<!-- leaf_e8db851d_f28a_4c18_92cd_714c0c0c990c -->\n<g id=\"node8\" class=\"node\">\n<title>leaf_e8db851d_f28a_4c18_92cd_714c0c0c990c</title>\n<polygon fill=\"none\" stroke=\"black\" points=\"287.5,-0.5 287.5,-51 374.25,-51 374.25,-0.5 287.5,-0.5\"/>\n<text text-anchor=\"middle\" x=\"315.62\" y=\"-33.7\" font-family=\"Times,serif\" font-size=\"14.00\">class</text>\n<polyline fill=\"none\" stroke=\"black\" points=\"343.75,-25.75 343.75,-51\"/>\n<text text-anchor=\"middle\" x=\"358.75\" y=\"-33.7\" font-family=\"Times,serif\" font-size=\"14.00\">1</text>\n<polyline fill=\"none\" stroke=\"black\" points=\"287.5,-25.75 374.25,-25.75\"/>\n<text text-anchor=\"middle\" x=\"313.88\" y=\"-8.45\" font-family=\"Times,serif\" font-size=\"14.00\">error</text>\n<polyline fill=\"none\" stroke=\"black\" points=\"340.25,-0.5 340.25,-25.75\"/>\n<text text-anchor=\"middle\" x=\"357.25\" y=\"-8.45\" font-family=\"Times,serif\" font-size=\"14.00\">68</text>\n</g>\n<!-- node_af0b4191_3a07_456d_a157_7dcd13c98283&#45;&gt;leaf_e8db851d_f28a_4c18_92cd_714c0c0c990c -->\n<g id=\"edge7\" class=\"edge\">\n<title>node_af0b4191_3a07_456d_a157_7dcd13c98283&#45;&gt;leaf_e8db851d_f28a_4c18_92cd_714c0c0c990c</title>\n<path fill=\"none\" stroke=\"black\" d=\"M269.41,-85.49C277.8,-77.47 288.13,-67.6 297.92,-58.25\"/>\n<polygon fill=\"black\" stroke=\"black\" points=\"299.79,-61.35 304.6,-51.91 294.95,-56.29 299.79,-61.35\"/>\n<text text-anchor=\"middle\" x=\"301.38\" y=\"-63.45\" font-family=\"Times,serif\" font-size=\"14.00\">1</text>\n</g>\n<!-- node_fdbffae8_6282_4243_af0d_7a2857aaecec -->\n<g id=\"node10\" class=\"node\">\n<title>node_fdbffae8_6282_4243_af0d_7a2857aaecec</title>\n<polygon fill=\"none\" stroke=\"black\" points=\"434,-85.25 434,-121.25 511.75,-121.25 511.75,-85.25 434,-85.25\"/>\n<text text-anchor=\"middle\" x=\"455.88\" y=\"-98.95\" font-family=\"Times,serif\" font-size=\"14.00\">feat</text>\n<polyline fill=\"none\" stroke=\"black\" points=\"477.75,-86 477.75,-121.25\"/>\n<text text-anchor=\"middle\" x=\"494.75\" y=\"-98.95\" font-family=\"Times,serif\" font-size=\"14.00\">30</text>\n</g>\n<!-- node_d5a8877b_cf6a_4822_9f31_a78d06f88024&#45;&gt;node_fdbffae8_6282_4243_af0d_7a2857aaecec -->\n<g id=\"edge9\" class=\"edge\">\n<title>node_d5a8877b_cf6a_4822_9f31_a78d06f88024&#45;&gt;node_fdbffae8_6282_4243_af0d_7a2857aaecec</title>\n<path fill=\"none\" stroke=\"black\" d=\"M472.88,-155.63C472.88,-148.44 472.88,-139.86 472.88,-131.79\"/>\n<polygon fill=\"black\" stroke=\"black\" points=\"476.38,-131.93 472.88,-121.93 469.38,-131.93 476.38,-131.93\"/>\n<text text-anchor=\"middle\" x=\"477.38\" y=\"-133.7\" font-family=\"Times,serif\" font-size=\"14.00\">0</text>\n</g>\n<!-- node_ed432d49_e1b1_4614_a244_eacb8405077b -->\n<g id=\"node13\" class=\"node\">\n<title>node_ed432d49_e1b1_4614_a244_eacb8405077b</title>\n<polygon fill=\"none\" stroke=\"black\" points=\"592,-85.25 592,-121.25 669.75,-121.25 669.75,-85.25 592,-85.25\"/>\n<text text-anchor=\"middle\" x=\"613.88\" y=\"-98.95\" font-family=\"Times,serif\" font-size=\"14.00\">feat</text>\n<polyline fill=\"none\" stroke=\"black\" points=\"635.75,-86 635.75,-121.25\"/>\n<text text-anchor=\"middle\" x=\"652.75\" y=\"-98.95\" font-family=\"Times,serif\" font-size=\"14.00\">34</text>\n</g>\n<!-- node_d5a8877b_cf6a_4822_9f31_a78d06f88024&#45;&gt;node_ed432d49_e1b1_4614_a244_eacb8405077b -->\n<g id=\"edge12\" class=\"edge\">\n<title>node_d5a8877b_cf6a_4822_9f31_a78d06f88024&#45;&gt;node_ed432d49_e1b1_4614_a244_eacb8405077b</title>\n<path fill=\"none\" stroke=\"black\" d=\"M511.53,-155.8C532.85,-146.59 559.55,-135.06 582.28,-125.24\"/>\n<polygon fill=\"black\" stroke=\"black\" points=\"583.28,-128.19 591.08,-121.01 580.51,-121.76 583.28,-128.19\"/>\n<text text-anchor=\"middle\" x=\"575.38\" y=\"-133.7\" font-family=\"Times,serif\" font-size=\"14.00\">1</text>\n</g>\n<!-- leaf_f6560216_7041_4d59_9b78_3c44c8909f98 -->\n<g id=\"node11\" class=\"node\">\n<title>leaf_f6560216_7041_4d59_9b78_3c44c8909f98</title>\n<polygon fill=\"none\" stroke=\"black\" points=\"392,-0.5 392,-51 469.75,-51 469.75,-0.5 392,-0.5\"/>\n<text text-anchor=\"middle\" x=\"417.62\" y=\"-33.7\" font-family=\"Times,serif\" font-size=\"14.00\">class</text>\n<polyline fill=\"none\" stroke=\"black\" points=\"443.25,-25.75 443.25,-51\"/>\n<text text-anchor=\"middle\" x=\"456.25\" y=\"-33.7\" font-family=\"Times,serif\" font-size=\"14.00\">0</text>\n<polyline fill=\"none\" stroke=\"black\" points=\"392,-25.75 469.75,-25.75\"/>\n<text text-anchor=\"middle\" x=\"418.38\" y=\"-8.45\" font-family=\"Times,serif\" font-size=\"14.00\">error</text>\n<polyline fill=\"none\" stroke=\"black\" points=\"444.75,-0.5 444.75,-25.75\"/>\n<text text-anchor=\"middle\" x=\"457.25\" y=\"-8.45\" font-family=\"Times,serif\" font-size=\"14.00\">0</text>\n</g>\n<!-- node_fdbffae8_6282_4243_af0d_7a2857aaecec&#45;&gt;leaf_f6560216_7041_4d59_9b78_3c44c8909f98 -->\n<g id=\"edge10\" class=\"edge\">\n<title>node_fdbffae8_6282_4243_af0d_7a2857aaecec&#45;&gt;leaf_f6560216_7041_4d59_9b78_3c44c8909f98</title>\n<path fill=\"none\" stroke=\"black\" d=\"M463.55,-85.49C459.45,-78.11 454.46,-69.15 449.64,-60.48\"/>\n<polygon fill=\"black\" stroke=\"black\" points=\"452.23,-58.95 444.31,-51.91 446.12,-62.35 452.23,-58.95\"/>\n<text text-anchor=\"middle\" x=\"463.38\" y=\"-63.45\" font-family=\"Times,serif\" font-size=\"14.00\">0</text>\n</g>\n<!-- leaf_a99e774b_9412_496d_a261_f577acb63fee -->\n<g id=\"node12\" class=\"node\">\n<title>leaf_a99e774b_9412_496d_a261_f577acb63fee</title>\n<polygon fill=\"none\" stroke=\"black\" points=\"487.5,-0.5 487.5,-51 574.25,-51 574.25,-0.5 487.5,-0.5\"/>\n<text text-anchor=\"middle\" x=\"515.62\" y=\"-33.7\" font-family=\"Times,serif\" font-size=\"14.00\">class</text>\n<polyline fill=\"none\" stroke=\"black\" points=\"543.75,-25.75 543.75,-51\"/>\n<text text-anchor=\"middle\" x=\"558.75\" y=\"-33.7\" font-family=\"Times,serif\" font-size=\"14.00\">1</text>\n<polyline fill=\"none\" stroke=\"black\" points=\"487.5,-25.75 574.25,-25.75\"/>\n<text text-anchor=\"middle\" x=\"513.88\" y=\"-8.45\" font-family=\"Times,serif\" font-size=\"14.00\">error</text>\n<polyline fill=\"none\" stroke=\"black\" points=\"540.25,-0.5 540.25,-25.75\"/>\n<text text-anchor=\"middle\" x=\"557.25\" y=\"-8.45\" font-family=\"Times,serif\" font-size=\"14.00\">29</text>\n</g>\n<!-- node_fdbffae8_6282_4243_af0d_7a2857aaecec&#45;&gt;leaf_a99e774b_9412_496d_a261_f577acb63fee -->\n<g id=\"edge11\" class=\"edge\">\n<title>node_fdbffae8_6282_4243_af0d_7a2857aaecec&#45;&gt;leaf_a99e774b_9412_496d_a261_f577acb63fee</title>\n<path fill=\"none\" stroke=\"black\" d=\"M485.75,-85.49C491.67,-77.79 498.9,-68.38 505.82,-59.36\"/>\n<polygon fill=\"black\" stroke=\"black\" points=\"509,-61.97 512.32,-51.91 503.45,-57.71 509,-61.97\"/>\n<text text-anchor=\"middle\" x=\"510.38\" y=\"-63.45\" font-family=\"Times,serif\" font-size=\"14.00\">1</text>\n</g>\n<!-- leaf_402e479c_181e_49b4_a252_10fb738ba8a4 -->\n<g id=\"node14\" class=\"node\">\n<title>leaf_402e479c_181e_49b4_a252_10fb738ba8a4</title>\n<polygon fill=\"none\" stroke=\"black\" points=\"592,-0.5 592,-51 669.75,-51 669.75,-0.5 592,-0.5\"/>\n<text text-anchor=\"middle\" x=\"617.62\" y=\"-33.7\" font-family=\"Times,serif\" font-size=\"14.00\">class</text>\n<polyline fill=\"none\" stroke=\"black\" points=\"643.25,-25.75 643.25,-51\"/>\n<text text-anchor=\"middle\" x=\"656.25\" y=\"-33.7\" font-family=\"Times,serif\" font-size=\"14.00\">0</text>\n<polyline fill=\"none\" stroke=\"black\" points=\"592,-25.75 669.75,-25.75\"/>\n<text text-anchor=\"middle\" x=\"618.38\" y=\"-8.45\" font-family=\"Times,serif\" font-size=\"14.00\">error</text>\n<polyline fill=\"none\" stroke=\"black\" points=\"644.75,-0.5 644.75,-25.75\"/>\n<text text-anchor=\"middle\" x=\"657.25\" y=\"-8.45\" font-family=\"Times,serif\" font-size=\"14.00\">0</text>\n</g>\n<!-- node_ed432d49_e1b1_4614_a244_eacb8405077b&#45;&gt;leaf_402e479c_181e_49b4_a252_10fb738ba8a4 -->\n<g id=\"edge13\" class=\"edge\">\n<title>node_ed432d49_e1b1_4614_a244_eacb8405077b&#45;&gt;leaf_402e479c_181e_49b4_a252_10fb738ba8a4</title>\n<path fill=\"none\" stroke=\"black\" d=\"M630.88,-85.49C630.88,-78.51 630.88,-70.11 630.88,-61.88\"/>\n<polygon fill=\"black\" stroke=\"black\" points=\"634.38,-61.91 630.88,-51.91 627.38,-61.91 634.38,-61.91\"/>\n<text text-anchor=\"middle\" x=\"635.38\" y=\"-63.45\" font-family=\"Times,serif\" font-size=\"14.00\">0</text>\n</g>\n<!-- leaf_345229e2_a7b6_4ab3_ad7f_3c9b3b13e592 -->\n<g id=\"node15\" class=\"node\">\n<title>leaf_345229e2_a7b6_4ab3_ad7f_3c9b3b13e592</title>\n<polygon fill=\"none\" stroke=\"black\" points=\"687.5,-0.5 687.5,-51 774.25,-51 774.25,-0.5 687.5,-0.5\"/>\n<text text-anchor=\"middle\" x=\"715.62\" y=\"-33.7\" font-family=\"Times,serif\" font-size=\"14.00\">class</text>\n<polyline fill=\"none\" stroke=\"black\" points=\"743.75,-25.75 743.75,-51\"/>\n<text text-anchor=\"middle\" x=\"758.75\" y=\"-33.7\" font-family=\"Times,serif\" font-size=\"14.00\">1</text>\n<polyline fill=\"none\" stroke=\"black\" points=\"687.5,-25.75 774.25,-25.75\"/>\n<text text-anchor=\"middle\" x=\"713.88\" y=\"-8.45\" font-family=\"Times,serif\" font-size=\"14.00\">error</text>\n<polyline fill=\"none\" stroke=\"black\" points=\"740.25,-0.5 740.25,-25.75\"/>\n<text text-anchor=\"middle\" x=\"757.25\" y=\"-8.45\" font-family=\"Times,serif\" font-size=\"14.00\">22</text>\n</g>\n<!-- node_ed432d49_e1b1_4614_a244_eacb8405077b&#45;&gt;leaf_345229e2_a7b6_4ab3_ad7f_3c9b3b13e592 -->\n<g id=\"edge14\" class=\"edge\">\n<title>node_ed432d49_e1b1_4614_a244_eacb8405077b&#45;&gt;leaf_345229e2_a7b6_4ab3_ad7f_3c9b3b13e592</title>\n<path fill=\"none\" stroke=\"black\" d=\"M653.07,-85.49C664.01,-77.23 677.55,-67.01 690.26,-57.42\"/>\n<polygon fill=\"black\" stroke=\"black\" points=\"692.01,-59.73 697.88,-50.91 687.79,-54.14 692.01,-59.73\"/>\n<text text-anchor=\"middle\" x=\"691.38\" y=\"-63.45\" font-family=\"Times,serif\" font-size=\"14.00\">1</text>\n</g>\n</g>\n</svg>\n",
      "text/plain": "<graphviz.sources.Source at 0x7fdfde9d03a0>"
     },
     "execution_count": 25,
     "metadata": {},
     "output_type": "execute_result"
    }
   ],
   "source": [
    "### Printing the tree\n",
    "dot = clf_lgdt.export_to_graphviz_dot()\n",
    "source = graphviz.Source(dot)\n",
    "source"
   ],
   "metadata": {
    "collapsed": false,
    "ExecuteTime": {
     "end_time": "2023-05-15T08:40:10.914938964Z",
     "start_time": "2023-05-15T08:40:10.870506476Z"
    }
   }
  },
  {
   "cell_type": "markdown",
   "source": [
    "## Comparing performance of rust and c++ implementations\n",
    "\n",
    "Here we compare the performance of the rust and c++ implementations of the DL8.5 algorithm."
   ],
   "metadata": {
    "collapsed": false
   }
  },
  {
   "cell_type": "code",
   "execution_count": 27,
   "outputs": [],
   "source": [
    "import time\n",
    "from pytrees.optimal import DL85Classifier as RustDl85\n",
    "from pydl85 import DL85Classifier as CppDl85\n",
    "from pytrees import (\n",
    "                    Specialization,\n",
    "                    Heuristic,\n",
    "                    Branching\n",
    "                    )"
   ],
   "metadata": {
    "collapsed": false,
    "ExecuteTime": {
     "end_time": "2023-05-15T08:44:53.371748507Z",
     "start_time": "2023-05-15T08:44:53.357477451Z"
    }
   }
  },
  {
   "cell_type": "code",
   "execution_count": 63,
   "outputs": [],
   "source": [
    "### Parameters\n",
    "support = 1\n",
    "max_depth = 3\n",
    "time_limit = 600 # 10 minutes"
   ],
   "metadata": {
    "collapsed": false,
    "ExecuteTime": {
     "end_time": "2023-05-15T09:12:51.359584304Z",
     "start_time": "2023-05-15T09:12:51.354879794Z"
    }
   }
  },
  {
   "cell_type": "code",
   "execution_count": 64,
   "outputs": [],
   "source": [
    "### Creating the rust model\n",
    "clf_rust = RustDl85(\n",
    "    min_sup=support,\n",
    "    max_depth=max_depth,\n",
    "    max_time=time_limit, # 10 minutes\n",
    "    specialization=Specialization.MurTree, # MurTree specialization or None_ for no specialization\n",
    "    heuristic=Heuristic.None_, # InformationGain heuristic or None_ for no heuristic\n",
    "    one_time_sort=True, # Sort the features only once using the heuristic\n",
    "    branching=Branching.Dynamic, # Dynamic branching or None_ for no branching\n",
    ")"
   ],
   "metadata": {
    "collapsed": false,
    "ExecuteTime": {
     "end_time": "2023-05-15T09:12:52.132831984Z",
     "start_time": "2023-05-15T09:12:52.126208060Z"
    }
   }
  },
  {
   "cell_type": "code",
   "execution_count": 65,
   "outputs": [],
   "source": [
    "### Creating the c++ model\n",
    "clf_cpp = CppDl85(\n",
    "    min_sup=support,\n",
    "    max_depth=max_depth,\n",
    "    time_limit=time_limit, # 10 minutes\n",
    "    print_output=False\n",
    ")"
   ],
   "metadata": {
    "collapsed": false,
    "ExecuteTime": {
     "end_time": "2023-05-15T09:12:53.243351088Z",
     "start_time": "2023-05-15T09:12:53.236424386Z"
    }
   }
  },
  {
   "cell_type": "code",
   "execution_count": 66,
   "outputs": [
    {
     "name": "stdout",
     "output_type": "stream",
     "text": [
      "Fitting the Rust model\n",
      "Done\n",
      "Time: 9691.307783126831  ms\n",
      "Fitting the C++ model\n",
      "Done\n",
      "Time: 6549.895763397217  ms\n"
     ]
    }
   ],
   "source": [
    "models = {\n",
    "    \"Rust\": clf_rust,\n",
    "    \"C++\": clf_cpp\n",
    "}\n",
    "\n",
    "for name, model in models.items():\n",
    "    # Fitting the model\n",
    "    print(\"Fitting the\", name, \"model\")\n",
    "    start = time.time()\n",
    "    model.fit(X, y)\n",
    "    end = time.time()\n",
    "    print(\"Done\")\n",
    "    # Printing time in milliseconds\n",
    "    print(\"Time:\", (end - start) * 1000, \" ms\")"
   ],
   "metadata": {
    "collapsed": false,
    "ExecuteTime": {
     "end_time": "2023-05-15T09:13:12.509621743Z",
     "start_time": "2023-05-15T09:13:05.957034404Z"
    }
   }
  },
  {
   "cell_type": "markdown",
   "source": [
    "### Next Features\n",
    "\n",
    "- Investigate Caching strategy for speed up (At first there was an overhead because of some iterator, but now it's not the case. The list copy might be a problem)\n",
    "- Itemset identification (Expected negligible speed up)\n",
    "- Add support for Windows.\n",
    "- Allow external function from python to rust to compute metrics on database\n",
    "- Implement Blossom Algorithm (With and without caching)\n",
    "- Memory Constrained Cache ?\n"
   ],
   "metadata": {
    "collapsed": false
   }
  }
 ],
 "metadata": {
  "kernelspec": {
   "display_name": "Python 3",
   "language": "python",
   "name": "python3"
  },
  "language_info": {
   "codemirror_mode": {
    "name": "ipython",
    "version": 2
   },
   "file_extension": ".py",
   "mimetype": "text/x-python",
   "name": "python",
   "nbconvert_exporter": "python",
   "pygments_lexer": "ipython2",
   "version": "2.7.6"
  }
 },
 "nbformat": 4,
 "nbformat_minor": 0
}
